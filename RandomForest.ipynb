{
  "nbformat": 4,
  "nbformat_minor": 5,
  "metadata": {
    "kernelspec": {
      "display_name": "Python 3",
      "language": "python",
      "name": "python3"
    },
    "language_info": {
      "codemirror_mode": {
        "name": "ipython",
        "version": 3
      },
      "file_extension": ".py",
      "mimetype": "text/x-python",
      "name": "python",
      "nbconvert_exporter": "python",
      "pygments_lexer": "ipython3",
      "version": "3.8.10"
    },
    "colab": {
      "name": "RandomForest.ipynb",
      "provenance": [],
      "collapsed_sections": []
    }
  },
  "cells": [
    {
      "cell_type": "code",
      "metadata": {
        "id": "717a35ac"
      },
      "source": [
        "# https://d2l.ai/chapter_multilayer-perceptrons/mlp-concise.html\n",
        "import tensorflow as tf\n",
        "import numpy as np\n",
        "import pandas as pd\n",
        "from google.colab import drive\n",
        "from tensorflow import keras\n",
        "from sklearn.model_selection import train_test_split\n",
        "from sklearn import preprocessing\n",
        "from google.colab import drive\n",
        "import os\n",
        "import shutil \n",
        "from numpy import array\n",
        "from keras.models import Sequential\n",
        "from keras.layers import Dense\n",
        "from keras.layers import Flatten\n",
        "from keras.layers.convolutional import Conv1D\n",
        "from keras.layers.convolutional import MaxPooling1D\n",
        "\n",
        "# Regression Example With Boston Dataset: Standardized and Larger\n",
        "from pandas import read_csv\n",
        "from keras.models import Sequential\n",
        "from keras.layers import Dense\n",
        "from keras.wrappers.scikit_learn import KerasRegressor\n",
        "from sklearn.model_selection import cross_val_score\n",
        "from sklearn.model_selection import KFold\n",
        "from sklearn.preprocessing import StandardScaler\n",
        "from sklearn.pipeline import Pipeline"
      ],
      "id": "717a35ac",
      "execution_count": null,
      "outputs": []
    },
    {
      "cell_type": "code",
      "source": [
        "import matplotlib.pyplot as plt"
      ],
      "metadata": {
        "id": "Ki9hR-_OTHdm"
      },
      "id": "Ki9hR-_OTHdm",
      "execution_count": null,
      "outputs": []
    },
    {
      "cell_type": "code",
      "source": [
        "# You can visualize the results with a confusion matrix.\n",
        "import seaborn as sn\n",
        "import numpy as np\n",
        "import matplotlib.pyplot as plt\n",
        "def plot_confusion_matrix(y_classified, y_true):\n",
        "  # Compute confusion matrix\n",
        "  c_mat = np.zeros((y_true.shape[0],y_true.shape[0]))\n",
        "  for i in range(len(y_true)):\n",
        "    c_mat[y_classified[i], y_true[i] ] += 1\n",
        "\n",
        "  group_counts = [\"{0:0.0f}\".format(value) for value in c_mat.flatten()]\n",
        "  group_percentages = [\"{0:.2%}\".format(value) for value in c_mat.flatten()/np.sum(c_mat)]\n",
        "  labels = [f\"{v1}\\n{v2}\" for v1, v2 in zip(group_counts, group_percentages)]\n",
        "  labels = np.asarray(labels).reshape(c_mat.shape[0], c_mat.shape[1])\n",
        "\n",
        "  plt.figure(figsize=(12,10))\n",
        "  sn.heatmap(c_mat, annot=labels, fmt='', cmap='rocket_r')\n",
        "  plt.title(\"Confusion Matrix\")\n",
        "  plt.ylabel('Output Class')\n",
        "  plt.xlabel('Target Class')"
      ],
      "metadata": {
        "id": "x9enfIgwx5st"
      },
      "id": "x9enfIgwx5st",
      "execution_count": null,
      "outputs": []
    },
    {
      "cell_type": "code",
      "metadata": {
        "id": "71cfbd08",
        "colab": {
          "base_uri": "https://localhost:8080/"
        },
        "outputId": "63720ab7-9b21-477f-f002-ef014b6b530b"
      },
      "source": [
        "drive.mount('/content/drive')\n",
        "# feel free to edit this cell to work with your local or colab directory\n",
        "with open('/content/drive/My Drive/ECE 539/ECE 539 Project/result.csv', 'r') as f: \n",
        "  df= pd.read_csv(f)\n",
        "df = df.drop(['Unnamed: 0', 'Date', 'gme', 'amc', 'Time', 'High', 'Low', 'yesterday_open', '2before_open', '3before_open', '4before_open', '5before_open', '6before_open', '7before_open'], axis=1)\n",
        "df = df.fillna(df.mean(axis=0), axis=0)"
      ],
      "id": "71cfbd08",
      "execution_count": null,
      "outputs": [
        {
          "output_type": "stream",
          "name": "stdout",
          "text": [
            "Mounted at /content/drive\n"
          ]
        }
      ]
    },
    {
      "cell_type": "code",
      "source": [
        "arr = pd.DataFrame.to_numpy(df)\n",
        "X = arr[:,:13]\n",
        "y = arr[:,13:21]\n",
        "X = preprocessing.normalize(X)\n",
        "\n",
        "# features = 1\n",
        "# X = X.reshape((X.shape[0], X.shape[1], features))"
      ],
      "metadata": {
        "id": "yISCTFM7fNPX"
      },
      "id": "yISCTFM7fNPX",
      "execution_count": null,
      "outputs": []
    },
    {
      "cell_type": "code",
      "source": [
        "from sklearn.ensemble import RandomForestRegressor\n",
        "from sklearn.metrics import r2_score"
      ],
      "metadata": {
        "id": "jJcQKDC4ZXAK"
      },
      "id": "jJcQKDC4ZXAK",
      "execution_count": null,
      "outputs": []
    },
    {
      "cell_type": "code",
      "source": [
        "# # partition into training and validation set at 80/20 division\n",
        "# def larger_model():\n",
        "# \t# create model\n",
        "# \tmodel = RandomForestRegressor(n_estimators=50, oob_score=True)\n",
        "# \t# Compile model\n",
        "# \treturn model\n",
        "\n",
        "from sklearn.ensemble import RandomForestRegressor\n",
        "rf2 = RandomForestRegressor(random_state = 50)\n",
        "\n",
        "### Grid Search ###\n",
        "parameters = {'bootstrap': True,\n",
        "              'min_samples_leaf': 3,\n",
        "              'n_estimators': 50, \n",
        "              'min_samples_split': 10,\n",
        "              'max_features': 'sqrt',\n",
        "              'max_depth': 5,\n",
        "              'max_leaf_nodes': None}\n",
        "\n",
        "\n",
        "X_train, X_test, y_train, y_test = train_test_split(X, y, test_size=0.30)\n",
        "y_predict = np.zeros((y_test.shape[0], y_test.shape[1]))\n",
        "\n",
        "for i in range(len(y[0])):\n",
        "  \n",
        "  # evaluate model with standardized dataset\n",
        "  # estimators = []\n",
        "  RF_model = RandomForestRegressor(**parameters)\n",
        "  # results = cross_val_score(pipeline, X_train, y_train[:,i], cv=kfold)\n",
        "  RF_model.fit(X_train, y_train[:,i])\n",
        "  yhat = RF_model.predict(X_test)\n",
        "  for j in range(len(yhat)):\n",
        "    y_predict[j][i] = yhat[j] \n",
        "  print(\"MSE :\", np.square(np.subtract(y_test[:,i],yhat)).mean())\n",
        "  print(\"R2 :\", r2_score(yhat,y_test[:,i]))\n",
        "  # print(\"(%f): Iteration Larger: %.2f (%.2f) MSE\" % (i+1, results.mean(), results.std()))"
      ],
      "metadata": {
        "colab": {
          "base_uri": "https://localhost:8080/"
        },
        "id": "y8ulbtr3z7z_",
        "outputId": "084e99ed-5771-495b-92ba-bf5580686331"
      },
      "id": "y8ulbtr3z7z_",
      "execution_count": null,
      "outputs": [
        {
          "output_type": "stream",
          "name": "stdout",
          "text": [
            "MSE : 27.38947317013884\n",
            "R2 : 0.9932677624311437\n",
            "MSE : 29.281659330885525\n",
            "R2 : 0.9655185157302104\n",
            "MSE : 55.55509216990372\n",
            "R2 : 0.995804088643947\n",
            "MSE : 71.62775265942152\n",
            "R2 : 0.994307697328569\n",
            "MSE : 136.193778773857\n",
            "R2 : 0.9920628421754678\n",
            "MSE : 136.80427160271876\n",
            "R2 : 0.9915108237790486\n",
            "MSE : 187.52722123451375\n",
            "R2 : 0.9887310813165258\n",
            "MSE : 200.23764141364467\n",
            "R2 : 0.9888139549931474\n"
          ]
        }
      ]
    },
    {
      "cell_type": "code",
      "source": [
        "plt.scatter(y_predict[:,5], y_test[:,5])"
      ],
      "metadata": {
        "colab": {
          "base_uri": "https://localhost:8080/",
          "height": 283
        },
        "id": "nCH5QjcC4BTM",
        "outputId": "ba141448-9e88-4c83-bb01-408898ca47ff"
      },
      "id": "nCH5QjcC4BTM",
      "execution_count": null,
      "outputs": [
        {
          "output_type": "execute_result",
          "data": {
            "text/plain": [
              "<matplotlib.collections.PathCollection at 0x7ff9efe4d650>"
            ]
          },
          "metadata": {},
          "execution_count": 12
        },
        {
          "output_type": "display_data",
          "data": {
            "text/plain": [
              "<Figure size 432x288 with 1 Axes>"
            ],
            "image/png": "[encoded data removed]"
          },
          "metadata": {
            "needs_background": "light"
          }
        }
      ]
    },
    {
      "cell_type": "code",
      "metadata": {
        "id": "aGIafJJe-V3p",
        "colab": {
          "base_uri": "https://localhost:8080/"
        },
        "outputId": "0d10d33c-06dd-4f89-8129-831eb4a28119"
      },
      "source": [
        "drive.flush_and_unmount()"
      ],
      "id": "aGIafJJe-V3p",
      "execution_count": null,
      "outputs": [
        {
          "output_type": "stream",
          "name": "stdout",
          "text": [
            "Drive not mounted, so nothing to flush and unmount.\n"
          ]
        }
      ]
    },
    {
      "cell_type": "code",
      "source": [
        ""
      ],
      "metadata": {
        "id": "JZldZPaQ7kew"
      },
      "id": "JZldZPaQ7kew",
      "execution_count": null,
      "outputs": []
    }
  ]
}